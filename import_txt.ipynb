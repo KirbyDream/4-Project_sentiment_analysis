{
 "cells": [
  {
   "cell_type": "code",
   "execution_count": 218,
   "id": "e83b02e0",
   "metadata": {},
   "outputs": [],
   "source": [
    "import re\n",
    "import pandas as pd"
   ]
  },
  {
   "cell_type": "code",
   "execution_count": 219,
   "id": "a5215ae2",
   "metadata": {},
   "outputs": [],
   "source": [
    "contenu =open(\"season1/1.txt\",\"r\")\n"
   ]
  },
  {
   "cell_type": "code",
   "execution_count": 220,
   "id": "47900f09",
   "metadata": {},
   "outputs": [],
   "source": [
    "script1 = contenu.read()"
   ]
  },
  {
   "cell_type": "code",
   "execution_count": 222,
   "id": "ca18ba26",
   "metadata": {},
   "outputs": [
    {
     "name": "stdout",
     "output_type": "stream",
     "text": [
      "\n",
      "Pilot - Northwest Passage\n",
      "\n",
      "\n",
      "FADE IN:\n",
      "\n",
      "INT. LOG LADY'S CABIN - DAY\n",
      "\n",
      "Seated at a dining table beside a tea set we see a woman, 'LOG LADY' MARGARET LANTERMEN. In her arms she carries a wooden log. She is speaking to us.\n"
     ]
    }
   ],
   "source": [
    "my_serie = re.split(r\"\\n\\n([A-Z]+ ?[A-Z]+)\\n\", script1)\n",
    "print(my_serie[0])"
   ]
  },
  {
   "cell_type": "code",
   "execution_count": 206,
   "id": "bf731df2",
   "metadata": {},
   "outputs": [],
   "source": [
    "def get_episode (path, episode):\n",
    "    contenu = open(path, \"r\")\n",
    "    script = contenu.read()\n",
    "    my_serie = re.split(r\"\\n\\n([A-Z]+ ?[A-Z]+)\\n\", script)\n",
    "    list_name=[]\n",
    "    for i in range(1,len(my_serie),2):\n",
    "        dic={}\n",
    "        dic['name']=my_serie[i]\n",
    "        dic['text']=my_serie[i+1]\n",
    "        list_name.append(dic)\n",
    "        \n",
    "    df = pd.DataFrame(list_name)\n",
    "    df[\"episode\"] = episode\n",
    "    return df"
   ]
  },
  {
   "cell_type": "code",
   "execution_count": 210,
   "id": "1fcc73b4",
   "metadata": {},
   "outputs": [],
   "source": [
    "df = get_episode (\"season1/1.txt\", \"1\")"
   ]
  },
  {
   "cell_type": "code",
   "execution_count": 213,
   "id": "2a6a5935",
   "metadata": {},
   "outputs": [],
   "source": [
    "frames=[]\n",
    "for i in range(1,9):\n",
    "    episode_df = get_episode(\"season1/\"+str(i)+\".txt\", i)\n",
    "    frames.append(episode_df)\n",
    "    \n",
    "    "
   ]
  },
  {
   "cell_type": "code",
   "execution_count": 215,
   "id": "47559f88",
   "metadata": {},
   "outputs": [],
   "source": [
    "result = pd.concat(frames)"
   ]
  },
  {
   "cell_type": "code",
   "execution_count": 216,
   "id": "260ded55",
   "metadata": {},
   "outputs": [
    {
     "data": {
      "text/html": [
       "<div>\n",
       "<style scoped>\n",
       "    .dataframe tbody tr th:only-of-type {\n",
       "        vertical-align: middle;\n",
       "    }\n",
       "\n",
       "    .dataframe tbody tr th {\n",
       "        vertical-align: top;\n",
       "    }\n",
       "\n",
       "    .dataframe thead th {\n",
       "        text-align: right;\n",
       "    }\n",
       "</style>\n",
       "<table border=\"1\" class=\"dataframe\">\n",
       "  <thead>\n",
       "    <tr style=\"text-align: right;\">\n",
       "      <th></th>\n",
       "      <th>name</th>\n",
       "      <th>text</th>\n",
       "      <th>episode</th>\n",
       "    </tr>\n",
       "  </thead>\n",
       "  <tbody>\n",
       "    <tr>\n",
       "      <th>0</th>\n",
       "      <td>LOG LADY</td>\n",
       "      <td>Welcome to Twin Peaks. My name is Margaret Lan...</td>\n",
       "      <td>1</td>\n",
       "    </tr>\n",
       "    <tr>\n",
       "      <th>1</th>\n",
       "      <td>PETE</td>\n",
       "      <td>Gone fishing.\\n\\nHe raps his knuckles on the c...</td>\n",
       "      <td>1</td>\n",
       "    </tr>\n",
       "    <tr>\n",
       "      <th>2</th>\n",
       "      <td>PETE</td>\n",
       "      <td>A lonesome foghorn blows.\\n\\nHe stops walking,...</td>\n",
       "      <td>1</td>\n",
       "    </tr>\n",
       "    <tr>\n",
       "      <th>3</th>\n",
       "      <td>PETE</td>\n",
       "      <td>Oh dear. Lucy, Lucy this is Pete Martell. Lucy...</td>\n",
       "      <td>1</td>\n",
       "    </tr>\n",
       "    <tr>\n",
       "      <th>4</th>\n",
       "      <td>LUCY</td>\n",
       "      <td>Sheriff its Pete Martell up at the mill. I'm g...</td>\n",
       "      <td>1</td>\n",
       "    </tr>\n",
       "    <tr>\n",
       "      <th>...</th>\n",
       "      <td>...</td>\n",
       "      <td>...</td>\n",
       "      <td>...</td>\n",
       "    </tr>\n",
       "    <tr>\n",
       "      <th>296</th>\n",
       "      <td>COOPER</td>\n",
       "      <td>Diane, 4:37 am. After a long investigative nig...</td>\n",
       "      <td>8</td>\n",
       "    </tr>\n",
       "    <tr>\n",
       "      <th>297</th>\n",
       "      <td>COOPER</td>\n",
       "      <td>As you can hear from the ambient sound around ...</td>\n",
       "      <td>8</td>\n",
       "    </tr>\n",
       "    <tr>\n",
       "      <th>298</th>\n",
       "      <td>COOPER</td>\n",
       "      <td>My special agent.\\n\\nThe telephone RINGS. COOP...</td>\n",
       "      <td>8</td>\n",
       "    </tr>\n",
       "    <tr>\n",
       "      <th>299</th>\n",
       "      <td>COOPER</td>\n",
       "      <td>Cooper here. (reply) Who is this? (reply) Coul...</td>\n",
       "      <td>8</td>\n",
       "    </tr>\n",
       "    <tr>\n",
       "      <th>300</th>\n",
       "      <td>COOPER</td>\n",
       "      <td>Please excuse me I got room service.\\n\\nCOOPER...</td>\n",
       "      <td>8</td>\n",
       "    </tr>\n",
       "  </tbody>\n",
       "</table>\n",
       "<p>2991 rows × 3 columns</p>\n",
       "</div>"
      ],
      "text/plain": [
       "         name                                               text  episode\n",
       "0    LOG LADY  Welcome to Twin Peaks. My name is Margaret Lan...        1\n",
       "1        PETE  Gone fishing.\\n\\nHe raps his knuckles on the c...        1\n",
       "2        PETE  A lonesome foghorn blows.\\n\\nHe stops walking,...        1\n",
       "3        PETE  Oh dear. Lucy, Lucy this is Pete Martell. Lucy...        1\n",
       "4        LUCY  Sheriff its Pete Martell up at the mill. I'm g...        1\n",
       "..        ...                                                ...      ...\n",
       "296    COOPER  Diane, 4:37 am. After a long investigative nig...        8\n",
       "297    COOPER  As you can hear from the ambient sound around ...        8\n",
       "298    COOPER  My special agent.\\n\\nThe telephone RINGS. COOP...        8\n",
       "299    COOPER  Cooper here. (reply) Who is this? (reply) Coul...        8\n",
       "300    COOPER  Please excuse me I got room service.\\n\\nCOOPER...        8\n",
       "\n",
       "[2991 rows x 3 columns]"
      ]
     },
     "execution_count": 216,
     "metadata": {},
     "output_type": "execute_result"
    }
   ],
   "source": [
    "result"
   ]
  },
  {
   "cell_type": "code",
   "execution_count": 263,
   "id": "7ee3f1e1",
   "metadata": {},
   "outputs": [
    {
     "data": {
      "text/plain": [
       "\"Welcome to Twin Peaks. My name is Margaret Lantermen. I live in Twin Peaks. I am known as the log lady. There is a story behind that. There are many stories in Twin Peaks. Some of them are sad, some funny. Some are stories of madness, of violence. Some are ordinary. Yet they all have about them a sense of mystery. The mystery of life, sometimes the mystery of death. The mystery of the woods, the woods surrounding Twin Peaks. To introduce this story let me just say it encompasses the all. It is beyond the fire. Though few would know that meaning. It is a story of many but it begins with one and I knew her. The one leading to the many is Laura Palmer. Laura is the one.\\n\\nFADE OUT:\\n\\n\\n\\n\\nINTRO:\\n\\n\\n\\n\\nFADE IN:\\n\\nTUNE: TWIN PEAKS THEME   \\n\\nCREDITS run with the scenes of a bird in a tree, the mill machinery at work, the road into town with the welcome sign, the hotel by the falls and the river.\\n\\nTUNE ENDS: TWIN PEAKS THEME   \\n\\nFADE OUT:\\n\\n\\n\\n\\nFADE IN:\\n\\nEXT. LAKESHORE BY THE BLUE PINE LODGE - DAY\\n\\nDawn breaks over the lake with the sounds of birds and a distant foghorn. Ducks can be seen on the lake.\\n\\n\\n\\n\\nCUT TO:\\n\\nTUNE: LAURA PALMER'S THEME    \\n\\nINT. BLUE PINE LODGE - DAY\\n\\nWe FOCUS on a black porcelain figure of two dogs. We PAN to a nearby mirror and see JOSIE PACKARD, a beautiful Asian woman, in the reflection. Dressed in a pink robe, she is humming as she applies her makeup.\\n\\n\\n\\n\\nCUT TO:\\n\\nINT. BLUE PINE LODGE - DAY\\n\\nCATHERINE MARTELL, a stout woman with curly red hair, is sipping coffee in the kitchen as her husband PETE MARTELL, wearing a hat and tugging fishing gear, walks in. PETE walks up to CATHERINE, kisses his palm and pats her on the cheek. She gives no response. In a dour voice he says ...\""
      ]
     },
     "execution_count": 263,
     "metadata": {},
     "output_type": "execute_result"
    }
   ],
   "source": [
    "test = result[\"text\"].iloc[0]\n",
    "test"
   ]
  },
  {
   "cell_type": "code",
   "execution_count": 237,
   "id": "348f1d31",
   "metadata": {},
   "outputs": [
    {
     "data": {
      "text/plain": [
       "0    Welcome to Twin Peaks. My name is Margaret Lan...\n",
       "0    I carry a log ... yes. Is it funny to you? It ...\n",
       "0    Sometime ideas, like men, jump up and say hell...\n",
       "0    There is a sadness in this world, for we are i...\n",
       "0    Even the ones who laugh are sometimes caught w...\n",
       "0    I play my part on my stage. I tell what I can ...\n",
       "0    Beauty is in the eye of the beholder. Yet ther...\n",
       "0    A drunken man walks in a way that is quite imp...\n",
       "Name: text, dtype: object"
      ]
     },
     "execution_count": 237,
     "metadata": {},
     "output_type": "execute_result"
    }
   ],
   "source": [
    "result.loc[0][\"text\"]"
   ]
  },
  {
   "cell_type": "code",
   "execution_count": null,
   "id": "15eaacab",
   "metadata": {},
   "outputs": [],
   "source": []
  },
  {
   "cell_type": "code",
   "execution_count": 264,
   "id": "8d1f30cf",
   "metadata": {},
   "outputs": [],
   "source": [
    "pattern = \"\\\\n\""
   ]
  },
  {
   "cell_type": "code",
   "execution_count": 265,
   "id": "b0349b19",
   "metadata": {},
   "outputs": [],
   "source": [
    "line_break_replaced = re.sub(pattern, \" \", test)\n"
   ]
  },
  {
   "cell_type": "code",
   "execution_count": 266,
   "id": "48594359",
   "metadata": {},
   "outputs": [
    {
     "data": {
      "text/plain": [
       "\"Welcome to Twin Peaks. My name is Margaret Lantermen. I live in Twin Peaks. I am known as the log lady. There is a story behind that. There are many stories in Twin Peaks. Some of them are sad, some funny. Some are stories of madness, of violence. Some are ordinary. Yet they all have about them a sense of mystery. The mystery of life, sometimes the mystery of death. The mystery of the woods, the woods surrounding Twin Peaks. To introduce this story let me just say it encompasses the all. It is beyond the fire. Though few would know that meaning. It is a story of many but it begins with one and I knew her. The one leading to the many is Laura Palmer. Laura is the one.  FADE OUT:     INTRO:     FADE IN:  TUNE: TWIN PEAKS THEME     CREDITS run with the scenes of a bird in a tree, the mill machinery at work, the road into town with the welcome sign, the hotel by the falls and the river.  TUNE ENDS: TWIN PEAKS THEME     FADE OUT:     FADE IN:  EXT. LAKESHORE BY THE BLUE PINE LODGE - DAY  Dawn breaks over the lake with the sounds of birds and a distant foghorn. Ducks can be seen on the lake.     CUT TO:  TUNE: LAURA PALMER'S THEME      INT. BLUE PINE LODGE - DAY  We FOCUS on a black porcelain figure of two dogs. We PAN to a nearby mirror and see JOSIE PACKARD, a beautiful Asian woman, in the reflection. Dressed in a pink robe, she is humming as she applies her makeup.     CUT TO:  INT. BLUE PINE LODGE - DAY  CATHERINE MARTELL, a stout woman with curly red hair, is sipping coffee in the kitchen as her husband PETE MARTELL, wearing a hat and tugging fishing gear, walks in. PETE walks up to CATHERINE, kisses his palm and pats her on the cheek. She gives no response. In a dour voice he says ...\""
      ]
     },
     "execution_count": 266,
     "metadata": {},
     "output_type": "execute_result"
    }
   ],
   "source": [
    "line_break_replaced"
   ]
  },
  {
   "cell_type": "code",
   "execution_count": null,
   "id": "a6128018",
   "metadata": {},
   "outputs": [],
   "source": []
  },
  {
   "cell_type": "code",
   "execution_count": 273,
   "id": "42e81c96",
   "metadata": {},
   "outputs": [],
   "source": [
    "result[\"text\"]= result[\"text\"].apply(lambda x: str(x).replace(\"\\n\",\"\")) \n"
   ]
  },
  {
   "cell_type": "code",
   "execution_count": 276,
   "id": "c23d5734",
   "metadata": {},
   "outputs": [],
   "source": [
    "result[\"text\"] = result[\"text\"].apply(lambda x: str(x).replace('\"',\"`\")) \n"
   ]
  },
  {
   "cell_type": "code",
   "execution_count": 279,
   "id": "353e5eec",
   "metadata": {},
   "outputs": [
    {
     "data": {
      "text/plain": [
       "10    We got a body up there.LUCY gives a shocked lo...\n",
       "10    Thank you. (sits) Your here investigating the ...\n",
       "10    (with his mouth full) Uhm, this is incredible,...\n",
       "10    Yes I do. Please have a seat. And would you wr...\n",
       "10    Sarah.She turns to SHERIFF TRUMAN and tells he...\n",
       "10    (as he takes another drink) Uhmm.TRUDY walks a...\n",
       "10                 The night is young.COOPER stands up.\n",
       "10                    James.JAMES rushes over to DONNA.\n",
       "Name: text, dtype: object"
      ]
     },
     "execution_count": 279,
     "metadata": {},
     "output_type": "execute_result"
    }
   ],
   "source": [
    "result[\"text\"][10]"
   ]
  },
  {
   "cell_type": "code",
   "execution_count": 280,
   "id": "bb515a7e",
   "metadata": {},
   "outputs": [],
   "source": [
    "result.to_csv(\"twin_peaks_df.csv\", index = False)\n"
   ]
  },
  {
   "cell_type": "code",
   "execution_count": null,
   "id": "0b248b2d",
   "metadata": {},
   "outputs": [],
   "source": []
  },
  {
   "cell_type": "code",
   "execution_count": null,
   "id": "7baf1566",
   "metadata": {},
   "outputs": [],
   "source": []
  }
 ],
 "metadata": {
  "kernelspec": {
   "display_name": "ironhack",
   "language": "python",
   "name": "ironhack"
  },
  "language_info": {
   "codemirror_mode": {
    "name": "ipython",
    "version": 3
   },
   "file_extension": ".py",
   "mimetype": "text/x-python",
   "name": "python",
   "nbconvert_exporter": "python",
   "pygments_lexer": "ipython3",
   "version": "3.9.12"
  }
 },
 "nbformat": 4,
 "nbformat_minor": 5
}
