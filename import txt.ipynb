{
 "cells": [
  {
   "cell_type": "code",
   "execution_count": 218,
   "id": "1a7b1e82",
   "metadata": {},
   "outputs": [],
   "source": [
    "import re\n",
    "import pandas as pd"
   ]
  },
  {
   "cell_type": "code",
   "execution_count": 219,
   "id": "3ba0efa3",
   "metadata": {},
   "outputs": [],
   "source": [
    "contenu =open(\"season1/1.txt\",\"r\")\n"
   ]
  },
  {
   "cell_type": "code",
   "execution_count": 220,
   "id": "1b6b3588",
   "metadata": {},
   "outputs": [],
   "source": [
    "script1 = contenu.read()"
   ]
  },
  {
   "cell_type": "code",
   "execution_count": 222,
   "id": "27bc4fbe",
   "metadata": {},
   "outputs": [
    {
     "name": "stdout",
     "output_type": "stream",
     "text": [
      "\n",
      "Pilot - Northwest Passage\n",
      "\n",
      "\n",
      "FADE IN:\n",
      "\n",
      "INT. LOG LADY'S CABIN - DAY\n",
      "\n",
      "Seated at a dining table beside a tea set we see a woman, 'LOG LADY' MARGARET LANTERMEN. In her arms she carries a wooden log. She is speaking to us.\n"
     ]
    }
   ],
   "source": [
    "my_serie = re.split(r\"\\n\\n([A-Z]+ ?[A-Z]+)\\n\", script1)\n",
    "print(my_serie[0])"
   ]
  },
  {
   "cell_type": "code",
   "execution_count": 206,
   "id": "3e76f155",
   "metadata": {},
   "outputs": [],
   "source": [
    "def get_episode (path, episode):\n",
    "    contenu = open(path, \"r\")\n",
    "    script = contenu.read()\n",
    "    my_serie = re.split(r\"\\n\\n([A-Z]+ ?[A-Z]+)\\n\", script)\n",
    "    list_name=[]\n",
    "    for i in range(1,len(my_serie),2):\n",
    "        dic={}\n",
    "        dic['name']=my_serie[i]\n",
    "        dic['text']=my_serie[i+1]\n",
    "        list_name.append(dic)\n",
    "        \n",
    "    df = pd.DataFrame(list_name)\n",
    "    df[\"episode\"] = episode\n",
    "    return df"
   ]
  },
  {
   "cell_type": "code",
   "execution_count": 210,
   "id": "05c3e577",
   "metadata": {},
   "outputs": [],
   "source": [
    "df = get_episode (\"season1/1.txt\", \"1\")"
   ]
  },
  {
   "cell_type": "code",
   "execution_count": 213,
   "id": "ccf9e6b7",
   "metadata": {},
   "outputs": [],
   "source": [
    "frames=[]\n",
    "for i in range(1,9):\n",
    "    episode_df = get_episode(\"season1/\"+str(i)+\".txt\", i)\n",
    "    frames.append(episode_df)\n",
    "    \n",
    "    "
   ]
  },
  {
   "cell_type": "code",
   "execution_count": 215,
   "id": "346f0e0a",
   "metadata": {},
   "outputs": [],
   "source": [
    "result = pd.concat(frames)"
   ]
  },
  {
   "cell_type": "code",
   "execution_count": 216,
   "id": "ee3841f6",
   "metadata": {},
   "outputs": [
    {
     "data": {
      "text/html": [
       "<div>\n",
       "<style scoped>\n",
       "    .dataframe tbody tr th:only-of-type {\n",
       "        vertical-align: middle;\n",
       "    }\n",
       "\n",
       "    .dataframe tbody tr th {\n",
       "        vertical-align: top;\n",
       "    }\n",
       "\n",
       "    .dataframe thead th {\n",
       "        text-align: right;\n",
       "    }\n",
       "</style>\n",
       "<table border=\"1\" class=\"dataframe\">\n",
       "  <thead>\n",
       "    <tr style=\"text-align: right;\">\n",
       "      <th></th>\n",
       "      <th>name</th>\n",
       "      <th>text</th>\n",
       "      <th>episode</th>\n",
       "    </tr>\n",
       "  </thead>\n",
       "  <tbody>\n",
       "    <tr>\n",
       "      <th>0</th>\n",
       "      <td>LOG LADY</td>\n",
       "      <td>Welcome to Twin Peaks. My name is Margaret Lan...</td>\n",
       "      <td>1</td>\n",
       "    </tr>\n",
       "    <tr>\n",
       "      <th>1</th>\n",
       "      <td>PETE</td>\n",
       "      <td>Gone fishing.\\n\\nHe raps his knuckles on the c...</td>\n",
       "      <td>1</td>\n",
       "    </tr>\n",
       "    <tr>\n",
       "      <th>2</th>\n",
       "      <td>PETE</td>\n",
       "      <td>A lonesome foghorn blows.\\n\\nHe stops walking,...</td>\n",
       "      <td>1</td>\n",
       "    </tr>\n",
       "    <tr>\n",
       "      <th>3</th>\n",
       "      <td>PETE</td>\n",
       "      <td>Oh dear. Lucy, Lucy this is Pete Martell. Lucy...</td>\n",
       "      <td>1</td>\n",
       "    </tr>\n",
       "    <tr>\n",
       "      <th>4</th>\n",
       "      <td>LUCY</td>\n",
       "      <td>Sheriff its Pete Martell up at the mill. I'm g...</td>\n",
       "      <td>1</td>\n",
       "    </tr>\n",
       "    <tr>\n",
       "      <th>...</th>\n",
       "      <td>...</td>\n",
       "      <td>...</td>\n",
       "      <td>...</td>\n",
       "    </tr>\n",
       "    <tr>\n",
       "      <th>296</th>\n",
       "      <td>COOPER</td>\n",
       "      <td>Diane, 4:37 am. After a long investigative nig...</td>\n",
       "      <td>8</td>\n",
       "    </tr>\n",
       "    <tr>\n",
       "      <th>297</th>\n",
       "      <td>COOPER</td>\n",
       "      <td>As you can hear from the ambient sound around ...</td>\n",
       "      <td>8</td>\n",
       "    </tr>\n",
       "    <tr>\n",
       "      <th>298</th>\n",
       "      <td>COOPER</td>\n",
       "      <td>My special agent.\\n\\nThe telephone RINGS. COOP...</td>\n",
       "      <td>8</td>\n",
       "    </tr>\n",
       "    <tr>\n",
       "      <th>299</th>\n",
       "      <td>COOPER</td>\n",
       "      <td>Cooper here. (reply) Who is this? (reply) Coul...</td>\n",
       "      <td>8</td>\n",
       "    </tr>\n",
       "    <tr>\n",
       "      <th>300</th>\n",
       "      <td>COOPER</td>\n",
       "      <td>Please excuse me I got room service.\\n\\nCOOPER...</td>\n",
       "      <td>8</td>\n",
       "    </tr>\n",
       "  </tbody>\n",
       "</table>\n",
       "<p>2991 rows × 3 columns</p>\n",
       "</div>"
      ],
      "text/plain": [
       "         name                                               text  episode\n",
       "0    LOG LADY  Welcome to Twin Peaks. My name is Margaret Lan...        1\n",
       "1        PETE  Gone fishing.\\n\\nHe raps his knuckles on the c...        1\n",
       "2        PETE  A lonesome foghorn blows.\\n\\nHe stops walking,...        1\n",
       "3        PETE  Oh dear. Lucy, Lucy this is Pete Martell. Lucy...        1\n",
       "4        LUCY  Sheriff its Pete Martell up at the mill. I'm g...        1\n",
       "..        ...                                                ...      ...\n",
       "296    COOPER  Diane, 4:37 am. After a long investigative nig...        8\n",
       "297    COOPER  As you can hear from the ambient sound around ...        8\n",
       "298    COOPER  My special agent.\\n\\nThe telephone RINGS. COOP...        8\n",
       "299    COOPER  Cooper here. (reply) Who is this? (reply) Coul...        8\n",
       "300    COOPER  Please excuse me I got room service.\\n\\nCOOPER...        8\n",
       "\n",
       "[2991 rows x 3 columns]"
      ]
     },
     "execution_count": 216,
     "metadata": {},
     "output_type": "execute_result"
    }
   ],
   "source": [
    "result"
   ]
  },
  {
   "cell_type": "code",
   "execution_count": 201,
   "id": "b593006e",
   "metadata": {},
   "outputs": [
    {
     "data": {
      "text/plain": [
       "\"Right THERE, no, no, right there! What is with you guys. (the BELLHOPS place the baggage down) I've got a sandwich in there and I want all those bags opened. We're looking till we find it.\\n\\nThe BELLHOPS hop to it, all the bags are opened and they are scattering clothes around until they find several sandwiches wrapped in white paper. JERRY has moved over to AUDREY.\""
      ]
     },
     "execution_count": 201,
     "metadata": {},
     "output_type": "execute_result"
    }
   ],
   "source": [
    "result[\"text\"].iloc[4]"
   ]
  },
  {
   "cell_type": "code",
   "execution_count": 202,
   "id": "a4b3fd82",
   "metadata": {},
   "outputs": [],
   "source": [
    "result.to_csv(\"twin_peaks_df.csv\", index = False)\n"
   ]
  },
  {
   "cell_type": "code",
   "execution_count": null,
   "id": "3bb71d9b",
   "metadata": {},
   "outputs": [],
   "source": []
  }
 ],
 "metadata": {
  "kernelspec": {
   "display_name": "ironhack",
   "language": "python",
   "name": "ironhack"
  },
  "language_info": {
   "codemirror_mode": {
    "name": "ipython",
    "version": 3
   },
   "file_extension": ".py",
   "mimetype": "text/x-python",
   "name": "python",
   "nbconvert_exporter": "python",
   "pygments_lexer": "ipython3",
   "version": "3.9.12"
  }
 },
 "nbformat": 4,
 "nbformat_minor": 5
}
