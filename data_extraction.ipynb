{
 "cells": [
  {
   "cell_type": "code",
   "execution_count": 64,
   "id": "e83b02e0",
   "metadata": {},
   "outputs": [
    {
     "ename": "ImportError",
     "evalue": "cannot import name 'get_episode' from 'src.extraction' (C:\\Users\\34603\\Desktop\\IronhackProjects\\4-Project_sentiment_analysis\\src\\extraction.py)",
     "output_type": "error",
     "traceback": [
      "\u001b[1;31m---------------------------------------------------------------------------\u001b[0m",
      "\u001b[1;31mImportError\u001b[0m                               Traceback (most recent call last)",
      "Input \u001b[1;32mIn [64]\u001b[0m, in \u001b[0;36m<cell line: 5>\u001b[1;34m()\u001b[0m\n\u001b[0;32m      3\u001b[0m \u001b[38;5;28;01mimport\u001b[39;00m \u001b[38;5;21;01mre\u001b[39;00m\n\u001b[0;32m      4\u001b[0m \u001b[38;5;28;01mimport\u001b[39;00m \u001b[38;5;21;01mpandas\u001b[39;00m \u001b[38;5;28;01mas\u001b[39;00m \u001b[38;5;21;01mpd\u001b[39;00m\n\u001b[1;32m----> 5\u001b[0m \u001b[38;5;28;01mfrom\u001b[39;00m \u001b[38;5;21;01msrc\u001b[39;00m\u001b[38;5;21;01m.\u001b[39;00m\u001b[38;5;21;01mextraction\u001b[39;00m \u001b[38;5;28;01mimport\u001b[39;00m get_episode\n",
      "\u001b[1;31mImportError\u001b[0m: cannot import name 'get_episode' from 'src.extraction' (C:\\Users\\34603\\Desktop\\IronhackProjects\\4-Project_sentiment_analysis\\src\\extraction.py)"
     ]
    }
   ],
   "source": [
    "import sys\n",
    "sys.path.append('.')\n",
    "import re\n",
    "import pandas as pd\n",
    "from src.extraction"
   ]
  },
  {
   "cell_type": "markdown",
   "id": "2b7b1151",
   "metadata": {},
   "source": [
    "# Import data from \"episode data source\""
   ]
  },
  {
   "cell_type": "code",
   "execution_count": 55,
   "id": "bf731df2",
   "metadata": {},
   "outputs": [],
   "source": [
    "#converting txt into dataframe\n",
    "\n",
    "def get_episode (path, episode):\n",
    "    contenu = open(path, \"r\")\n",
    "    script = contenu.read()\n",
    "    my_serie = re.split(r\"\\n\\n([A-Z]+ ?[A-Z]+)\\n\", script)\n",
    "    list_name=[]\n",
    "    for i in range(1,len(my_serie),2):\n",
    "        dic={}\n",
    "        dic['name']=my_serie[i]\n",
    "        dic['text']=my_serie[i+1]\n",
    "        list_name.append(dic)\n",
    "        \n",
    "    df = pd.DataFrame(list_name)\n",
    "    df[\"episode\"] = episode\n",
    "    return df"
   ]
  },
  {
   "cell_type": "code",
   "execution_count": null,
   "id": "f2f165a4",
   "metadata": {},
   "outputs": [],
   "source": []
  },
  {
   "cell_type": "code",
   "execution_count": 65,
   "id": "1fcc73b4",
   "metadata": {
    "scrolled": true
   },
   "outputs": [
    {
     "data": {
      "text/html": [
       "<div>\n",
       "<style scoped>\n",
       "    .dataframe tbody tr th:only-of-type {\n",
       "        vertical-align: middle;\n",
       "    }\n",
       "\n",
       "    .dataframe tbody tr th {\n",
       "        vertical-align: top;\n",
       "    }\n",
       "\n",
       "    .dataframe thead th {\n",
       "        text-align: right;\n",
       "    }\n",
       "</style>\n",
       "<table border=\"1\" class=\"dataframe\">\n",
       "  <thead>\n",
       "    <tr style=\"text-align: right;\">\n",
       "      <th></th>\n",
       "      <th>name</th>\n",
       "      <th>text</th>\n",
       "      <th>episode</th>\n",
       "    </tr>\n",
       "  </thead>\n",
       "  <tbody>\n",
       "    <tr>\n",
       "      <th>70</th>\n",
       "      <td>SARAH</td>\n",
       "      <td>No! (cries) Ohhh! Noooo!\\n\\n\\n\\nCUT TO:\\n\\nINT...</td>\n",
       "      <td>1</td>\n",
       "    </tr>\n",
       "  </tbody>\n",
       "</table>\n",
       "</div>"
      ],
      "text/plain": [
       "     name                                               text episode\n",
       "70  SARAH  No! (cries) Ohhh! Noooo!\\n\\n\\n\\nCUT TO:\\n\\nINT...       1"
      ]
     },
     "execution_count": 65,
     "metadata": {},
     "output_type": "execute_result"
    }
   ],
   "source": [
    "#testing \"get episode\" function\n",
    "df = get_episode (\"season1/1.txt\", \"1\")\n",
    "df.sample()"
   ]
  },
  {
   "cell_type": "code",
   "execution_count": 22,
   "id": "2a6a5935",
   "metadata": {},
   "outputs": [],
   "source": [
    "frames=[]\n",
    "for i in range(1,9):\n",
    "    episode_df = get_episode(\"season1/\"+str(i)+\".txt\", i)\n",
    "    frames.append(episode_df)\n",
    "    \n",
    "    "
   ]
  },
  {
   "cell_type": "markdown",
   "id": "bf7e0406",
   "metadata": {},
   "source": [
    "# Getting the data set"
   ]
  },
  {
   "cell_type": "code",
   "execution_count": 23,
   "id": "47559f88",
   "metadata": {},
   "outputs": [],
   "source": [
    "# Concatenating the individual frames into one dataframe\n",
    "result = pd.concat(frames)"
   ]
  },
  {
   "cell_type": "code",
   "execution_count": 24,
   "id": "260ded55",
   "metadata": {},
   "outputs": [
    {
     "data": {
      "text/html": [
       "<div>\n",
       "<style scoped>\n",
       "    .dataframe tbody tr th:only-of-type {\n",
       "        vertical-align: middle;\n",
       "    }\n",
       "\n",
       "    .dataframe tbody tr th {\n",
       "        vertical-align: top;\n",
       "    }\n",
       "\n",
       "    .dataframe thead th {\n",
       "        text-align: right;\n",
       "    }\n",
       "</style>\n",
       "<table border=\"1\" class=\"dataframe\">\n",
       "  <thead>\n",
       "    <tr style=\"text-align: right;\">\n",
       "      <th></th>\n",
       "      <th>name</th>\n",
       "      <th>text</th>\n",
       "      <th>episode</th>\n",
       "    </tr>\n",
       "  </thead>\n",
       "  <tbody>\n",
       "    <tr>\n",
       "      <th>236</th>\n",
       "      <td>JANEK</td>\n",
       "      <td>Yes, Horne's Department Store downtown.</td>\n",
       "      <td>2</td>\n",
       "    </tr>\n",
       "    <tr>\n",
       "      <th>17</th>\n",
       "      <td>BENJAMIN</td>\n",
       "      <td>Am I right, am I right. Hmm.</td>\n",
       "      <td>3</td>\n",
       "    </tr>\n",
       "    <tr>\n",
       "      <th>199</th>\n",
       "      <td>SHERIFF TRUMAN</td>\n",
       "      <td>Thanks.\\n\\nTRUMAN pats COOPERâ€™S arm, puts hi...</td>\n",
       "      <td>7</td>\n",
       "    </tr>\n",
       "    <tr>\n",
       "      <th>161</th>\n",
       "      <td>ALBERT</td>\n",
       "      <td>Sounds like you've been snacking on some of th...</td>\n",
       "      <td>4</td>\n",
       "    </tr>\n",
       "    <tr>\n",
       "      <th>22</th>\n",
       "      <td>BENJAMIN</td>\n",
       "      <td>Leland's daughter was murdered and the Norwegi...</td>\n",
       "      <td>3</td>\n",
       "    </tr>\n",
       "  </tbody>\n",
       "</table>\n",
       "</div>"
      ],
      "text/plain": [
       "               name                                               text  \\\n",
       "236           JANEK            Yes, Horne's Department Store downtown.   \n",
       "17         BENJAMIN                       Am I right, am I right. Hmm.   \n",
       "199  SHERIFF TRUMAN  Thanks.\\n\\nTRUMAN pats COOPERâ€™S arm, puts hi...   \n",
       "161          ALBERT  Sounds like you've been snacking on some of th...   \n",
       "22         BENJAMIN  Leland's daughter was murdered and the Norwegi...   \n",
       "\n",
       "     episode  \n",
       "236        2  \n",
       "17         3  \n",
       "199        7  \n",
       "161        4  \n",
       "22         3  "
      ]
     },
     "execution_count": 24,
     "metadata": {},
     "output_type": "execute_result"
    }
   ],
   "source": [
    "result.sample(5)"
   ]
  },
  {
   "cell_type": "code",
   "execution_count": 25,
   "id": "7ee3f1e1",
   "metadata": {},
   "outputs": [
    {
     "data": {
      "text/plain": [
       "\"Welcome to Twin Peaks. My name is Margaret Lantermen. I live in Twin Peaks. I am known as the log lady. There is a story behind that. There are many stories in Twin Peaks. Some of them are sad, some funny. Some are stories of madness, of violence. Some are ordinary. Yet they all have about them a sense of mystery. The mystery of life, sometimes the mystery of death. The mystery of the woods, the woods surrounding Twin Peaks. To introduce this story let me just say it encompasses the all. It is beyond the fire. Though few would know that meaning. It is a story of many but it begins with one and I knew her. The one leading to the many is Laura Palmer. Laura is the one.\\n\\nFADE OUT:\\n\\n\\n\\n\\nINTRO:\\n\\n\\n\\n\\nFADE IN:\\n\\nTUNE: TWIN PEAKS THEME   \\n\\nCREDITS run with the scenes of a bird in a tree, the mill machinery at work, the road into town with the welcome sign, the hotel by the falls and the river.\\n\\nTUNE ENDS: TWIN PEAKS THEME   \\n\\nFADE OUT:\\n\\n\\n\\n\\nFADE IN:\\n\\nEXT. LAKESHORE BY THE BLUE PINE LODGE - DAY\\n\\nDawn breaks over the lake with the sounds of birds and a distant foghorn. Ducks can be seen on the lake.\\n\\n\\n\\n\\nCUT TO:\\n\\nTUNE: LAURA PALMER'S THEME    \\n\\nINT. BLUE PINE LODGE - DAY\\n\\nWe FOCUS on a black porcelain figure of two dogs. We PAN to a nearby mirror and see JOSIE PACKARD, a beautiful Asian woman, in the reflection. Dressed in a pink robe, she is humming as she applies her makeup.\\n\\n\\n\\n\\nCUT TO:\\n\\nINT. BLUE PINE LODGE - DAY\\n\\nCATHERINE MARTELL, a stout woman with curly red hair, is sipping coffee in the kitchen as her husband PETE MARTELL, wearing a hat and tugging fishing gear, walks in. PETE walks up to CATHERINE, kisses his palm and pats her on the cheek. She gives no response. In a dour voice he says ...\""
      ]
     },
     "execution_count": 25,
     "metadata": {},
     "output_type": "execute_result"
    }
   ],
   "source": [
    "#testing the content of previous results\n",
    "test = result[\"text\"].iloc[0]\n",
    "test"
   ]
  },
  {
   "cell_type": "code",
   "execution_count": 26,
   "id": "e9eb0766",
   "metadata": {},
   "outputs": [
    {
     "data": {
      "text/plain": [
       "0    Welcome to Twin Peaks. My name is Margaret Lan...\n",
       "0    I carry a log ... yes. Is it funny to you? It ...\n",
       "0    Sometime ideas, like men, jump up and say hell...\n",
       "0    There is a sadness in this world, for we are i...\n",
       "0    Even the ones who laugh are sometimes caught w...\n",
       "0    I play my part on my stage. I tell what I can ...\n",
       "0    Beauty is in the eye of the beholder. Yet ther...\n",
       "0    A drunken man walks in a way that is quite imp...\n",
       "Name: text, dtype: object"
      ]
     },
     "execution_count": 26,
     "metadata": {},
     "output_type": "execute_result"
    }
   ],
   "source": [
    "result.loc[0][\"text\"]"
   ]
  },
  {
   "cell_type": "code",
   "execution_count": 28,
   "id": "d80ce597",
   "metadata": {},
   "outputs": [],
   "source": [
    "#cleaning data set\n",
    "\n",
    "def replace_x(old,new):\n",
    "    return result[\"text\"].apply(lambda x: str(x).replace(old,new))\n"
   ]
  },
  {
   "cell_type": "code",
   "execution_count": 29,
   "id": "d86fdaae",
   "metadata": {},
   "outputs": [],
   "source": [
    "# removing the line breaks(\\n), double quotes and percentage symbol, not to break esecuele \n",
    "\n",
    "result[\"text\"] = replace_x(\"\\n\",\"\")\n",
    "result[\"text\"] = replace_x('\"',\"`\")\n",
    "result[\"text\"] = replace_x(\"%\",\"\")"
   ]
  },
  {
   "cell_type": "code",
   "execution_count": 47,
   "id": "7d4bb614",
   "metadata": {
    "scrolled": true
   },
   "outputs": [
    {
     "data": {
      "text/plain": [
       "\"Lucy, not a word about this to anyone until you've heard from me.CUT TO:EXT. TWIN PEAKS SHERIFF'S DEPARTMENT - DAYSHERIFF TRUMAN walks out of the department building and enters his patrol cruiser. He starts it up, turns on the police lights and siren then takes off.CUT TO:EXT. LAKESHORE BY THE BLUE PINE LODGE - DAYTUNE: LAURA PALMER'S THEME    PETE leads SHERIFF TRUMAN, DR. WILL HAYWARD and DEPUTY ANDY BRENNAN, carrying a camera, to the body wrapped in plastic.\""
      ]
     },
     "execution_count": 47,
     "metadata": {},
     "output_type": "execute_result"
    }
   ],
   "source": [
    "#testing text sample to make sure that the replacement was done correctly\n",
    "result[\"text\"].iloc[11]"
   ]
  },
  {
   "cell_type": "code",
   "execution_count": 48,
   "id": "58df4b93",
   "metadata": {},
   "outputs": [],
   "source": [
    "#adding the season column to my dataset ( only using the data from 1 season)\n",
    "result[\"season\"] = 1"
   ]
  },
  {
   "cell_type": "markdown",
   "id": "908d9396",
   "metadata": {},
   "source": [
    "# Exporting my data set to CSV"
   ]
  },
  {
   "cell_type": "code",
   "execution_count": 49,
   "id": "bb515a7e",
   "metadata": {},
   "outputs": [],
   "source": [
    "result.to_csv(\"twin_peaks_df.csv\", index = False)\n"
   ]
  },
  {
   "cell_type": "code",
   "execution_count": null,
   "id": "5544a212",
   "metadata": {},
   "outputs": [],
   "source": []
  },
  {
   "cell_type": "code",
   "execution_count": null,
   "id": "7baf1566",
   "metadata": {},
   "outputs": [],
   "source": []
  }
 ],
 "metadata": {
  "kernelspec": {
   "display_name": "ironhack",
   "language": "python",
   "name": "ironhack"
  },
  "language_info": {
   "codemirror_mode": {
    "name": "ipython",
    "version": 3
   },
   "file_extension": ".py",
   "mimetype": "text/x-python",
   "name": "python",
   "nbconvert_exporter": "python",
   "pygments_lexer": "ipython3",
   "version": "3.9.12"
  }
 },
 "nbformat": 4,
 "nbformat_minor": 5
}
